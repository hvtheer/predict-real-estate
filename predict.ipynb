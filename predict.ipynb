{
 "cells": [
  {
   "cell_type": "code",
   "execution_count": 2,
   "metadata": {},
   "outputs": [],
   "source": [
    "import joblib \n",
    "import pandas as pd"
   ]
  },
  {
   "cell_type": "code",
   "execution_count": 3,
   "metadata": {},
   "outputs": [],
   "source": [
    "modelLR = joblib.load(\"./model/LR.joblib\")\n",
    "modelRF = joblib.load(\"./model/RF.joblib\")\n",
    "modelSVM = joblib.load(\"./model/SVM.joblib\")\n"
   ]
  },
  {
   "cell_type": "code",
   "execution_count": 4,
   "metadata": {},
   "outputs": [
    {
     "name": "stdout",
     "output_type": "stream",
     "text": [
      "TYPE OF ESTATE\n",
      "   id                          name\n",
      "0   0          Nhà biệt thự liền kề\n",
      "1   1                   Nhà mặt phố\n",
      "2   2                     Nhà riêng\n",
      "3   3  Shophouse/Nhà phố thương mại\n",
      "DISTRICT\n",
      "    id          name\n",
      "0    0         Ba Vì\n",
      "1    1       Ba Đình\n",
      "2    2   Bắc Từ Liêm\n",
      "3    3     Chương Mỹ\n",
      "4    4      Cầu Giấy\n",
      "5    5       Gia Lâm\n",
      "6    6        Gò Vấp\n",
      "7    7  Hai Bà Trưng\n",
      "8    8      Hoài Đức\n",
      "9    9     Hoàn Kiếm\n",
      "10  10     Hoàng Mai\n",
      "11  11       Hà Đông\n",
      "12  12     Long Biên\n",
      "13  13       Mê Linh\n",
      "14  14        Mỹ Đức\n",
      "15  15   Nam Từ Liêm\n",
      "16  16      Phúc Thọ\n",
      "17  17      Quốc Oai\n",
      "18  18       Sóc Sơn\n",
      "19  19       Sơn Trà\n",
      "20  20       Sơn Tây\n",
      "21  21     Thanh Oai\n",
      "22  22     Thanh Trì\n",
      "23  23    Thanh Xuân\n",
      "24  24    Thường Tín\n",
      "25  25    Thạch Thất\n",
      "26  26        Tây Hồ\n",
      "27  27    Đan Phượng\n",
      "28  28      Đông Anh\n",
      "29  29       Đống Đa\n",
      "LEGAL DOCUMENT\n",
      "   id              name\n",
      "0   0  Hợp đồng mua bán\n",
      "1   1              Khác\n",
      "2   2    Sổ đỏ/ sổ hồng\n",
      "3   3       Đang chờ sổ\n",
      "INTERIOR\n",
      "   id            name\n",
      "0   0          Cơ bản\n",
      "1   1            Khác\n",
      "2   2  Không nội thất\n",
      "3   3          Đầy đủ\n"
     ]
    }
   ],
   "source": [
    "import sqlite3\n",
    "\n",
    "# Connect to the SQLite database\n",
    "conn = sqlite3.connect('database.db')\n",
    "\n",
    "query = \"SELECT * FROM type_estate\"\n",
    "data = pd.read_sql_query(query, conn)\n",
    "print(\"TYPE OF ESTATE\")\n",
    "print(data)\n",
    "\n",
    "query = \"SELECT * FROM district\"\n",
    "data = pd.read_sql_query(query, conn)\n",
    "print(\"DISTRICT\")\n",
    "print(data)\n",
    "\n",
    "query = \"SELECT * FROM legal_document\"\n",
    "data = pd.read_sql_query(query, conn)\n",
    "print(\"LEGAL DOCUMENT\")\n",
    "print(data)\n",
    "\n",
    "query = \"SELECT * FROM interior\"\n",
    "data = pd.read_sql_query(query, conn)\n",
    "print(\"INTERIOR\")\n",
    "print(data)\n",
    "\n",
    "\n",
    "# Close the database connection\n",
    "conn.close()"
   ]
  },
  {
   "cell_type": "code",
   "execution_count": 5,
   "metadata": {},
   "outputs": [
    {
     "name": "stdout",
     "output_type": "stream",
     "text": [
      "LEGAL DOCUMENT\n",
      "   id              name\n",
      "0   0  Hợp đồng mua bán\n",
      "1   1              Khác\n",
      "2   2    Sổ đỏ/ sổ hồng\n",
      "3   3       Đang chờ sổ\n"
     ]
    }
   ],
   "source": [
    "\n",
    "# Connect to the SQLite database\n",
    "conn = sqlite3.connect('database.db')\n",
    "\n",
    "query = \"SELECT * FROM legal_document\"\n",
    "data = pd.read_sql_query(query, conn)\n",
    "print(\"LEGAL DOCUMENT\")\n",
    "print(data)\n",
    "\n",
    "# Close the database connection\n",
    "conn.close()"
   ]
  },
  {
   "cell_type": "code",
   "execution_count": 6,
   "metadata": {},
   "outputs": [],
   "source": [
    "import math"
   ]
  },
  {
   "cell_type": "code",
   "execution_count": 10,
   "metadata": {},
   "outputs": [
    {
     "name": "stdout",
     "output_type": "stream",
     "text": [
      "Kết quả dự đoán: [1.56201199e+10]\n"
     ]
    }
   ],
   "source": [
    "e = math.e\n",
    "# Thử nghiệm\n",
    "\n",
    "test = pd.DataFrame({\n",
    "    \"type_estate\": 0,\n",
    "    \"district\": 5,\n",
    "    \"area\": 100,\n",
    "    \"legal_document\": 2,\n",
    "    \"interior\": 3,\n",
    "    \"num_bedrooms\": 2,\n",
    "    \"num_bathrooms\": 3,\n",
    "    \"num_floors\": 2,\n",
    "    \"entrance\": 5,\n",
    "    \"frontage\": 3,\n",
    "}, index=[0])\n",
    "pricePredict = modelLR.predict(test)\n",
    "# In kết quả dự đoán giá bất động sản\n",
    "print(\"Kết quả dự đoán:\", e**pricePredict)"
   ]
  },
  {
   "cell_type": "markdown",
   "metadata": {},
   "source": [
    "pr_id,type_estate,district,posted_date,area,price,legal_document,interior,num_bedrooms,num_bathrooms,num_floors,entrance,frontage,price_per_sqm\n"
   ]
  }
 ],
 "metadata": {
  "kernelspec": {
   "display_name": "Python 3",
   "language": "python",
   "name": "python3"
  },
  "language_info": {
   "codemirror_mode": {
    "name": "ipython",
    "version": 3
   },
   "file_extension": ".py",
   "mimetype": "text/x-python",
   "name": "python",
   "nbconvert_exporter": "python",
   "pygments_lexer": "ipython3",
   "version": "3.10.11"
  }
 },
 "nbformat": 4,
 "nbformat_minor": 2
}
